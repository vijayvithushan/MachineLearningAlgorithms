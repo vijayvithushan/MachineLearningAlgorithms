{
 "cells": [
  {
   "cell_type": "markdown",
   "metadata": {},
   "source": [
    "# Multiple Linear Regression\n",
    "\n",
    "In this notebook, we will explore multiple linear regression both theoretically and practically. We will use synthetic data to demonstrate how this method works and how it can be used to make predictions.\n",
    "\n",
    "## Importing Libraries\n",
    "\n",
    "First, we need to import the necessary libraries."
   ]
  },
  {
   "cell_type": "code",
   "execution_count": 1,
   "metadata": {},
   "outputs": [],
   "source": [
    "import numpy as np\n",
    "import pandas as pd\n",
    "import matplotlib.pyplot as plt\n",
    "from sklearn.model_selection import train_test_split\n",
    "from sklearn.linear_model import LinearRegression\n",
    "from sklearn.metrics import mean_squared_error, r2_score"
   ]
  },
  {
   "cell_type": "markdown",
   "metadata": {},
   "source": [
    "## Generating Synthetic Data\n",
    "\n",
    "Let's generate some synthetic data for our demonstration. We will create a dataset with 100 samples and 3 features. We will also define the true coefficients for these features."
   ]
  },
  {
   "cell_type": "code",
   "execution_count": 2,
   "metadata": {},
   "outputs": [],
   "source": [
    "np.random.seed(42)\n",
    "X = np.random.rand(100, 3)  # 100 samples, 3 features\n",
    "true_coefs = np.array([1.5, -2.0, 3.0])\n",
    "y = X.dot(true_coefs) + np.random.normal(0, 0.5, size=100)"
   ]
  },
  {
   "cell_type": "markdown",
   "metadata": {},
   "source": [
    "## Splitting the Data\n",
    "\n",
    "Next, we split the data into training and testing sets to evaluate our model."
   ]
  },
  {
   "cell_type": "code",
   "execution_count": 4,
   "metadata": {},
   "outputs": [],
   "source": [
    "X_train, X_test, y_train, y_test = train_test_split(X, y, test_size=0.2, random_state=42)"
   ]
  },
  {
   "cell_type": "markdown",
   "metadata": {},
   "source": [
    "## Multiple Linear Regression\n",
    "\n",
    "Multiple linear regression is an extension of simple linear regression where we use multiple features to predict a target variable. The equation for multiple linear regression is:\n",
    "\n",
    "\\[ y = \\beta_0 + \\beta_1 x_1 + \\beta_2 x_2 + ... + \\beta_p x_p + \\epsilon \\]\n",
    "\n",
    "Where:\n",
    "- \\( y \\) is the dependent variable (target)\n",
    "- \\( x_1, x_2, ..., x_p \\) are the independent variables (features)\n",
    "- \\( \\beta_0 \\) is the intercept\n",
    "- \\( \\beta_1, \\beta_2, ..., \\beta_p \\) are the coefficients\n",
    "- \\( \\epsilon \\) is the error term\n",
    "\n",
    "Let's fit a multiple linear regression model to our data."
   ]
  },
  {
   "cell_type": "code",
   "execution_count": 5,
   "metadata": {},
   "outputs": [
    {
     "name": "stdout",
     "output_type": "stream",
     "text": [
      "Coefficients: [ 1.55294884 -2.037697    3.34302962]\n",
      "Intercept: -0.04250522081646091\n",
      "Mean Squared Error: 0.5043481201525749\n",
      "R-squared: 0.6751440835385537\n"
     ]
    }
   ],
   "source": [
    "# Initialize the model\n",
    "model = LinearRegression()\n",
    "\n",
    "# Fit the model to the training data\n",
    "model.fit(X_train, y_train)\n",
    "\n",
    "# Predict on the test data\n",
    "y_pred = model.predict(X_test)\n",
    "\n",
    "# Calculate Mean Squared Error and R-squared\n",
    "mse = mean_squared_error(y_test, y_pred)\n",
    "r2 = r2_score(y_test, y_pred)\n",
    "\n",
    "# Display the results\n",
    "print(\"Coefficients:\", model.coef_)\n",
    "print(\"Intercept:\", model.intercept_)\n",
    "print(\"Mean Squared Error:\", mse)\n",
    "print(\"R-squared:\", r2)"
   ]
  },
  {
   "cell_type": "markdown",
   "metadata": {},
   "source": [
    "## Results and Interpretation\n",
    "\n",
    "The coefficients and intercept of our model are:\n",
    "\n",
    "- **Coefficients**: These values represent the relationship between each feature and the target variable. A positive coefficient means that as the feature increases, the target variable also increases. A negative coefficient means that as the feature increases, the target variable decreases.\n",
    "- **Intercept**: This is the predicted value of the target variable when all features are zero.\n",
    "\n",
    "The **Mean Squared Error (MSE)** is a measure of how well our model predicts the target variable. It is the average of the squared differences between the actual and predicted values. A lower MSE indicates a better fit.\n",
    "\n",
    "The **R-squared** value indicates the proportion of the variance in the dependent variable that is predictable from the independent variables. It ranges from 0 to 1, with 1 indicating a perfect fit.\n",
    "\n",
    "## Visualizing the Results\n",
    "\n",
    "Let's visualize the actual vs. predicted values to better understand how well our model performs."
   ]
  },
  {
   "cell_type": "code",
   "execution_count": 6,
   "metadata": {},
   "outputs": [
    {
     "data": {
      "image/png": "[encoded data removed]",
      "text/plain": [
       "<Figure size 720x432 with 1 Axes>"
      ]
     },
     "metadata": {
      "needs_background": "light"
     },
     "output_type": "display_data"
    }
   ],
   "source": [
    "plt.figure(figsize=(10, 6))\n",
    "plt.scatter(y_test, y_pred, color='blue')\n",
    "plt.plot([y_test.min(), y_test.max()], [y_test.min(), y_test.max()], 'k--', lw=2)\n",
    "plt.xlabel('Actual')\n",
    "plt.ylabel('Predicted')\n",
    "plt.title('Actual vs. Predicted Values')\n",
    "plt.show()"
   ]
  },
  {
   "cell_type": "markdown",
   "metadata": {},
   "source": [
    "## Summary\n",
    "\n",
    "In this notebook, we explored multiple linear regression, a method used to predict a target variable using multiple features. We generated synthetic data, split it into training and testing sets, and fit a multiple linear regression model. We evaluated the model using Mean Squared Error and R-squared, and visualized the actual vs. predicted values.\n",
    "\n",
    "By understanding and applying multiple linear regression, we can make more accurate predictions and better understand the relationships between different variables in our data."
   ]
  },
  {
   "cell_type": "code",
   "execution_count": null,
   "metadata": {},
   "outputs": [],
   "source": []
  }
 ],
 "metadata": {
  "kernelspec": {
   "display_name": "Python 3",
   "language": "python",
   "name": "python3"
  },
  "language_info": {
   "codemirror_mode": {
    "name": "ipython",
    "version": 3
   },
   "file_extension": ".py",
   "mimetype": "text/x-python",
   "name": "python",
   "nbconvert_exporter": "python",
   "pygments_lexer": "ipython3",
   "version": "3.7.2"
  }
 },
 "nbformat": 4,
 "nbformat_minor": 4
}
